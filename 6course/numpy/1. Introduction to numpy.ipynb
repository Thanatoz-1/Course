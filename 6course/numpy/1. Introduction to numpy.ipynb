{
 "cells": [
  {
   "cell_type": "markdown",
   "metadata": {},
   "source": [
    "# Introduction to Numpy\n",
    "\n",
    "![numpy](https://miro.medium.com/max/1400/1*cyXCE-JcBelTyrK-58w6_Q.png)\n",
    "When dealing with data science problem, we have to deal with a huge variety of datasets. These datasets can come from a wide and exclusive range of sources in a wide range of formats which includes collection of documents,  images, sound clips, numerical measurements tables, or nearly anything else. Despite all this variations or apparent heterogeneity, it will be helpful for us to think of all data fundamentally as arrays of numbers.\n",
    "\n",
    "\n",
    "For example when talking about images–particularly digital images–, we can think of them as simply two-dimensional arrays of numbers representing pixel brightness across the area. Text can also be converted using a number of techniques into numerical representations. Sound clips can be inferred of as one-dimensional arrays of intensity versus time or spectrographical images. No matter what the data is, the first and foremost step in interpreting it to analyzable form will be to transform them into arrays of numbers.\n",
    "\n",
    "\n",
    "**Numpy**(short for Numerical Python) provides an efficient interface to store and operate on dense data buffers. In some ways numpy arrays can be treated like Python's built-in list type, but they provide much more efficient storage and data operations as the data grows larger and larger in size. NumPy forms the core of nearly the entire ecosystem of data science tools in Python, so time spent learning to use NumPy effectively will be valuable no matter what aspect of data science interests you.\n",
    "\n",
    "So briefly, we can state following points about numpy. It provides:\n",
    "\n",
    "* a powerful N-dimensional array object\n",
    "* sophisticated (broadcasting) functions\n",
    "* tools for integrating C/C++ and Fortran code\n",
    "* useful linear algebra, Fourier transform, and random number capabilities\n",
    "and much more\n",
    "\n",
    "Besides its obvious scientific uses, NumPy can also be used as an efficient multi-dimensional container of generic data. Arbitrary data-types can be defined. This allows NumPy to seamlessly and speedily integrate with a wide variety of databases.\n",
    "\n",
    "## Installing numpy\n",
    "\n",
    "*If you are using some virtualenv for the project, you should activate it before running the below code.*\n",
    "\n"
   ]
  },
  {
   "cell_type": "code",
   "execution_count": null,
   "metadata": {},
   "outputs": [],
   "source": [
    "# If you are using Anaconda environment management, then opt for this installation\n",
    "import sys\n",
    "env = sys.prefix; env"
   ]
  },
  {
   "cell_type": "code",
   "execution_count": null,
   "metadata": {},
   "outputs": [],
   "source": [
    "!conda install --yes --prefix {sys.prefix} numpy"
   ]
  },
  {
   "cell_type": "code",
   "execution_count": null,
   "metadata": {},
   "outputs": [],
   "source": [
    "%%bash -s \"$env\" \n",
    "# else using virtualenv wrapper\n",
    "source $1/bin/activate;\n",
    "pip install numpy"
   ]
  },
  {
   "cell_type": "code",
   "execution_count": null,
   "metadata": {},
   "outputs": [],
   "source": [
    "%%bash\n",
    "# or simple installation\n",
    "pip install numpy"
   ]
  },
  {
   "cell_type": "markdown",
   "metadata": {},
   "source": [
    "## Importing numpy\n",
    "\n",
    "Now in order to use the __numpy__ inn Python, we will need to import the package like any other python package as follows:"
   ]
  },
  {
   "cell_type": "code",
   "execution_count": 1,
   "metadata": {},
   "outputs": [
    {
     "data": {
      "text/plain": [
       "'1.18.1'"
      ]
     },
     "execution_count": 1,
     "metadata": {},
     "output_type": "execute_result"
    }
   ],
   "source": [
    "import numpy\n",
    "numpy.__version__"
   ]
  },
  {
   "cell_type": "markdown",
   "metadata": {},
   "source": [
    "But mostly, as an established abbrevation, you will encounter numpy being imported as np"
   ]
  },
  {
   "cell_type": "code",
   "execution_count": 2,
   "metadata": {},
   "outputs": [],
   "source": [
    "import numpy as np"
   ]
  },
  {
   "cell_type": "markdown",
   "metadata": {},
   "source": [
    "Throughout this chapter, and indeed the rest of course, you will encounter this way of importing and using NumPy.\n",
    "\n",
    "\n",
    "In the next chapter, we are going to understand data-types offered by NumPy\n",
    "\n",
    "\n",
    "[Chapter 2: Undestanding data-types >](2.%20Undestanding%20data-types.ipynb)"
   ]
  }
 ],
 "metadata": {
  "kernelspec": {
   "display_name": "Python 3.6.9 64-bit ('kaggle': venv)",
   "language": "python",
   "name": "python36964bitkagglevenv060474321f26457bb5eb10940ccd1317"
  },
  "language_info": {
   "codemirror_mode": {
    "name": "ipython",
    "version": 3
   },
   "file_extension": ".py",
   "mimetype": "text/x-python",
   "name": "python",
   "nbconvert_exporter": "python",
   "pygments_lexer": "ipython3",
   "version": "3.6.9"
  }
 },
 "nbformat": 4,
 "nbformat_minor": 4
}
