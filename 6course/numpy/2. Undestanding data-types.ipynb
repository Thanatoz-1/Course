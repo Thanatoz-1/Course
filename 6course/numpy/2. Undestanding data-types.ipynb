{
 "cells": [
  {
   "cell_type": "markdown",
   "metadata": {},
   "source": [
    "# Data Types in Python and Numpy\n",
    "\n",
    "Effective data-driven computation requires us to have a deep understanding of how data is stored and manipulated. This notebook covers outlines and contrasts on how arrays of data are handled in the Python itself, and how NumPy improves this. \n",
    "\n",
    "\n"
   ]
  },
  {
   "cell_type": "code",
   "execution_count": null,
   "metadata": {},
   "outputs": [],
   "source": []
  }
 ],
 "metadata": {
  "kernelspec": {
   "display_name": "Python 3.6.9 64-bit ('kaggle': venv)",
   "language": "python",
   "name": "python36964bitkagglevenv060474321f26457bb5eb10940ccd1317"
  },
  "language_info": {
   "codemirror_mode": {
    "name": "ipython",
    "version": 3
   },
   "file_extension": ".py",
   "mimetype": "text/x-python",
   "name": "python",
   "nbconvert_exporter": "python",
   "pygments_lexer": "ipython3",
   "version": "3.6.9"
  }
 },
 "nbformat": 4,
 "nbformat_minor": 4
}
