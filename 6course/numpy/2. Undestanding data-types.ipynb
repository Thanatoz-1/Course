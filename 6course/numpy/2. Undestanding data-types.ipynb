{
 "cells": [
  {
   "cell_type": "markdown",
   "metadata": {},
   "source": [
    "# Data Types in Python and Numpy\n",
    "\n",
    "Effective data-driven computation requires us to have a deep understanding of how data is stored and manipulated. This notebook covers outlines and contrasts on how arrays of data are handled in the Python itself, and how NumPy improves this. We are going to understand much of this throughout the numpy module, but right now, let's stress a little on the \n",
    "\n",
    "Unlike [statically typed language](https://stackoverflow.com/questions/1517582/what-is-the-difference-between-statically-typed-and-dynamically-typed-languages), python gives us the flexiblity of auto setting the value of variables in the code rather than typing the exact data-type of the same. This could be considered as one of the reasons why python is slower as compared to a compile type and statically typed language. Let's try to understand this using a simple code comparision with c. \n",
    "\n",
    "```c\n",
    "/* C code */\n",
    "int sum = 0;\n",
    "for(int i=0; i<100; i++){\n",
    "    sum += i;\n",
    "}\n",
    "```\n",
    "This exact piece of code, when written in python, is as follows:\n",
    "```python\n",
    "# Python\n",
    "result = 0\n",
    "for i in range(100):\n",
    "    result += i\n",
    "```\n",
    "Looks neat, isn't it? This code is more easily readable than the `c` code as we don't have to explicitly mention the datatypes we are working with and we can also change them easily whenever required. "
   ]
  },
  {
   "cell_type": "code",
   "execution_count": 2,
   "metadata": {},
   "outputs": [
    {
     "data": {
      "text/plain": [
       "[str, int, float, bool]"
      ]
     },
     "execution_count": 2,
     "metadata": {},
     "output_type": "execute_result"
    }
   ],
   "source": [
    "List = [\"2\", 2, 2., True]\n",
    "[type(item) for item in List]"
   ]
  },
  {
   "cell_type": "markdown",
   "metadata": {},
   "source": [
    "So, we can see that one single python list can contain multiple data-types."
   ]
  },
  {
   "cell_type": "code",
   "execution_count": 3,
   "metadata": {},
   "outputs": [],
   "source": [
    "import numpy as np"
   ]
  },
  {
   "cell_type": "code",
   "execution_count": 7,
   "metadata": {},
   "outputs": [
    {
     "data": {
      "text/plain": [
       "array([3, 1, 4, 1, 5, 9, 6, 2, 5])"
      ]
     },
     "execution_count": 7,
     "metadata": {},
     "output_type": "execute_result"
    }
   ],
   "source": [
    "# integer array:\n",
    "a = np.array([3, 1, 4, 1, 5, 9, 6, 2, 5])\n",
    "a"
   ]
  },
  {
   "cell_type": "code",
   "execution_count": 8,
   "metadata": {},
   "outputs": [
    {
     "data": {
      "text/plain": [
       "dtype('int64')"
      ]
     },
     "execution_count": 8,
     "metadata": {},
     "output_type": "execute_result"
    }
   ],
   "source": [
    "a.dtype"
   ]
  },
  {
   "cell_type": "code",
   "execution_count": 9,
   "metadata": {},
   "outputs": [
    {
     "data": {
      "text/plain": [
       "array([3.14, 1.  , 5.  , 9.  , 6.  , 2.  , 5.  ])"
      ]
     },
     "execution_count": 9,
     "metadata": {},
     "output_type": "execute_result"
    }
   ],
   "source": [
    "a = np.array([3.14, 1, 5, 9, 6, 2, 5])\n",
    "a"
   ]
  },
  {
   "cell_type": "code",
   "execution_count": 10,
   "metadata": {},
   "outputs": [
    {
     "data": {
      "text/plain": [
       "dtype('float64')"
      ]
     },
     "execution_count": 10,
     "metadata": {},
     "output_type": "execute_result"
    }
   ],
   "source": [
    "a.dtype"
   ]
  },
  {
   "cell_type": "code",
   "execution_count": 11,
   "metadata": {},
   "outputs": [
    {
     "data": {
      "text/plain": [
       "dtype('<U32')"
      ]
     },
     "execution_count": 11,
     "metadata": {},
     "output_type": "execute_result"
    }
   ],
   "source": [
    "a = np.array([3.14, \"1\", 5, 9, 6, 2, 5])\n",
    "a; a.dtype"
   ]
  },
  {
   "cell_type": "markdown",
   "metadata": {},
   "source": [
    "**What do we see?**\n",
    "We can clearly see that whenever there are different data-types in a numpy array, rather than giving a mixed set of dtypes, it gives one singular datatype. \n",
    "\n",
    "Finally, unlike Python lists, NumPy arrays can explicitly be multi-dimensional; here's one way of initializing a multidimensional array using a list of lists:"
   ]
  },
  {
   "cell_type": "code",
   "execution_count": 12,
   "metadata": {},
   "outputs": [
    {
     "data": {
      "text/plain": [
       "array([[3, 4, 5],\n",
       "       [1, 2, 3],\n",
       "       [4, 5, 6]])"
      ]
     },
     "execution_count": 12,
     "metadata": {},
     "output_type": "execute_result"
    }
   ],
   "source": [
    "# nested lists result in multi-dimensional arrays\n",
    "np.array([range(i, i + 3) for i in [3, 1, 4]])"
   ]
  },
  {
   "cell_type": "markdown",
   "metadata": {},
   "source": [
    "# A speed comparision of numpy with native python\n",
    "\n",
    "The question should rise after reading the above lines - *Numpy restricts us from using different dtypes in a single list, then why are we still trying to learn about numpy?*\n",
    "The answer to this is *speed*. The use of dynamic datatypes is one of the reasons why python becomes slower than other languages. This means it makes our code faster: way faster compared to native python. Don't believe me? have a look at it yourself. \n"
   ]
  },
  {
   "cell_type": "code",
   "execution_count": 15,
   "metadata": {},
   "outputs": [
    {
     "name": "stdout",
     "output_type": "stream",
     "text": [
      "CPU times: user 235 ms, sys: 18.1 ms, total: 253 ms\n",
      "Wall time: 249 ms\n"
     ]
    }
   ],
   "source": [
    "%%time\n",
    "a=[]\n",
    "for i in range(int(1e6)):\n",
    "    a.append(i)"
   ]
  },
  {
   "cell_type": "code",
   "execution_count": 17,
   "metadata": {},
   "outputs": [
    {
     "name": "stdout",
     "output_type": "stream",
     "text": [
      "CPU times: user 112 ms, sys: 38.3 ms, total: 150 ms\n",
      "Wall time: 147 ms\n"
     ]
    }
   ],
   "source": [
    "%%time\n",
    "a = [i for i in range(int(1e6))]"
   ]
  },
  {
   "cell_type": "code",
   "execution_count": 18,
   "metadata": {},
   "outputs": [
    {
     "name": "stdout",
     "output_type": "stream",
     "text": [
      "CPU times: user 54.2 ms, sys: 593 µs, total: 54.8 ms\n",
      "Wall time: 51.4 ms\n"
     ]
    }
   ],
   "source": [
    "%%time\n",
    "a = np.arange(1e6)"
   ]
  },
  {
   "cell_type": "markdown",
   "metadata": {},
   "source": [
    "We can clearly see that in order to create a list of one million numbers, it takes about 250ms for a python list which is only 51.4 ms using numpy. Clearly there is a 5 times improvement in speed using numpy as compared to native python. So clearly from now onwards you must start using numpy wrapper."
   ]
  },
  {
   "cell_type": "markdown",
   "metadata": {},
   "source": [
    "## Creating Arrays from Scratch\n",
    "\n",
    "We have seen the dtypes of numpy array and how it helps us carry out larger computation by reducing the execution time. But the next question should be: how should I create arrays using numpy now? This section is going to guide you through the process of creating faster array in numpy."
   ]
  },
  {
   "cell_type": "code",
   "execution_count": 19,
   "metadata": {},
   "outputs": [
    {
     "data": {
      "text/plain": [
       "array([0, 0, 0, 0, 0, 0, 0, 0, 0, 0])"
      ]
     },
     "execution_count": 19,
     "metadata": {},
     "output_type": "execute_result"
    }
   ],
   "source": [
    "# Create a length-10 integer array filled with zeros\n",
    "np.zeros(10, dtype=int)"
   ]
  },
  {
   "cell_type": "code",
   "execution_count": 21,
   "metadata": {},
   "outputs": [
    {
     "data": {
      "text/plain": [
       "array([[1., 1., 1.],\n",
       "       [1., 1., 1.]])"
      ]
     },
     "execution_count": 21,
     "metadata": {},
     "output_type": "execute_result"
    }
   ],
   "source": [
    "# Create a 2x3 floating-point array filled with ones\n",
    "np.ones((2, 3), dtype=float)"
   ]
  },
  {
   "cell_type": "code",
   "execution_count": 22,
   "metadata": {},
   "outputs": [
    {
     "data": {
      "text/plain": [
       "array([[3.14, 3.14, 3.14],\n",
       "       [3.14, 3.14, 3.14]])"
      ]
     },
     "execution_count": 22,
     "metadata": {},
     "output_type": "execute_result"
    }
   ],
   "source": [
    "# Create a 2x3 array filled with value of pi\n",
    "np.full((2, 3), 3.14)"
   ]
  },
  {
   "cell_type": "code",
   "execution_count": 25,
   "metadata": {},
   "outputs": [
    {
     "data": {
      "text/plain": [
       "array([ 0,  5, 10, 15, 20, 25, 30, 35, 40, 45])"
      ]
     },
     "execution_count": 25,
     "metadata": {},
     "output_type": "execute_result"
    }
   ],
   "source": [
    "# Create an array filled with a linear sequence: a list of values of multiple of 5.\n",
    "# Starting at 0, ending at 50, stepping by 5\n",
    "# (this is similar to the built-in range() function)\n",
    "np.arange(0, 50, 5)"
   ]
  },
  {
   "cell_type": "code",
   "execution_count": 27,
   "metadata": {},
   "outputs": [
    {
     "data": {
      "text/plain": [
       "array([0.  , 0.25, 0.5 , 0.75, 1.  ])"
      ]
     },
     "execution_count": 27,
     "metadata": {},
     "output_type": "execute_result"
    }
   ],
   "source": [
    "# Create an array of five values evenly spaced between 0 and 1\n",
    "np.linspace(0, 1, 5)"
   ]
  },
  {
   "cell_type": "code",
   "execution_count": 28,
   "metadata": {},
   "outputs": [
    {
     "data": {
      "text/plain": [
       "array([[0.89881275, 0.45645897, 0.29092413],\n",
       "       [0.93800677, 0.90552942, 0.52288151],\n",
       "       [0.01085913, 0.66908311, 0.46687694]])"
      ]
     },
     "execution_count": 28,
     "metadata": {},
     "output_type": "execute_result"
    }
   ],
   "source": [
    "# Create a 3x3 array of uniformly distributed\n",
    "# random values between 0 and 1\n",
    "np.random.random((3, 3))"
   ]
  },
  {
   "cell_type": "code",
   "execution_count": 29,
   "metadata": {},
   "outputs": [
    {
     "data": {
      "text/plain": [
       "array([[4, 0, 5],\n",
       "       [4, 5, 1],\n",
       "       [5, 9, 1]])"
      ]
     },
     "execution_count": 29,
     "metadata": {},
     "output_type": "execute_result"
    }
   ],
   "source": [
    "# Create a 3x3 array of random integers in the interval [0, 10)\n",
    "np.random.randint(0, 10, (3, 3))"
   ]
  },
  {
   "cell_type": "code",
   "execution_count": 30,
   "metadata": {},
   "outputs": [
    {
     "data": {
      "text/plain": [
       "array([[1., 0., 0.],\n",
       "       [0., 1., 0.],\n",
       "       [0., 0., 1.]])"
      ]
     },
     "execution_count": 30,
     "metadata": {},
     "output_type": "execute_result"
    }
   ],
   "source": [
    "# Create a 3x3 identity matrix\n",
    "np.eye(3)"
   ]
  },
  {
   "cell_type": "code",
   "execution_count": 31,
   "metadata": {},
   "outputs": [
    {
     "data": {
      "text/plain": [
       "array([1., 1., 1.])"
      ]
     },
     "execution_count": 31,
     "metadata": {},
     "output_type": "execute_result"
    }
   ],
   "source": [
    "# Create an uninitialized array of three integers\n",
    "# The values will be whatever happens to already exist at that memory location\n",
    "np.empty(3)"
   ]
  },
  {
   "cell_type": "markdown",
   "metadata": {},
   "source": [
    "NumPy Standard Data Types\n",
    "NumPy arrays contain values of a single type, so it is important to have detailed knowledge of those types and their limitations. Because NumPy is built in C, the types will be familiar to users of C, Fortran, and other related languages.\n",
    "\n",
    "The standard NumPy data types are listed in the following table. Note that when constructing an array, they can be specified using a string:\n",
    "```python\n",
    "np.zeros(10, dtype='int16')\n",
    "```\n",
    "Or using the associated NumPy object:\n",
    "```python\n",
    "np.zeros(10, dtype=np.int16)\n",
    "```\n",
    "\n",
    "| Data type\t  | Description                                                                    |\n",
    "|-------------|--------------------------------------------------------------------------------|\n",
    "| bool_\t      | Boolean   | (True or False) stored as a byte                                   |\n",
    "| int_\t      | Default   | integer type (same as C long; normally either int64 or int32)      |\n",
    "| intc\t      | Identical to C int (normally int32 or int64)                                   |\n",
    "| intp\t      | Integer used for indexing (same as C ssize_t; normally either int32 or int64)  |\n",
    "| int8\t      | Byte (-128 to 127)                                                             |\n",
    "| int16\t      | Integer (-32768 to 32767)                                                      |\n",
    "| int32\t      | Integer (-2147483648 to 2147483647)                                            |\n",
    "| int64\t      | Integer (-9223372036854775808 to 9223372036854775807)                          |\n",
    "| uint8\t      | Unsigned integer (0 to 255)                                                    |\n",
    "| uint16\t  | Unsigned integer (0 to 65535)                                                  |\n",
    "| uint32\t  | Unsigned integer (0 to 4294967295)                                             |\n",
    "| uint64\t  | Unsigned integer (0 to 18446744073709551615)                                   |\n",
    "| float_\t  | Shorthand for float64.                                                         |\n",
    "| float16\t  | Half precision float: sign bit, 5 bits exponent, 10 bits mantissa              |\n",
    "| float32\t  | Single precision float: sign bit, 8 bits exponent, 23 bits mantissa            |\n",
    "| float64\t  | Double precision float: sign bit, 11 bits exponent, 52 bits mantissa           |\n",
    "| complex_\t  | Shorthand for complex128.                                                      |\n",
    "| complex64\t  | Complex number, represented by two 32-bit floats                               |\n",
    "| complex128  | Complex number, represented by two 64-bit floats                               |"
   ]
  },
  {
   "cell_type": "markdown",
   "metadata": {},
   "source": [
    "More advanced type specification is possible, such as specifying big or little endian numbers; for more information, refer to the [NumPy documentation](http://numpy.org/). NumPy also supports compound data types, which will be covered in Structured Data: [NumPy's Structured Arrays.](https://render.githubusercontent.com/view/02.09-Structured-Data-NumPy.ipynb)\n",
    "\n",
    "[< 1. Introduction to numpy](1.%20Introduction%20to%20numpy.ipynb) | [>]()"
   ]
  }
 ],
 "metadata": {
  "kernelspec": {
   "display_name": "Python 3.6.9 64-bit ('kaggle': venv)",
   "language": "python",
   "name": "python36964bitkagglevenv060474321f26457bb5eb10940ccd1317"
  },
  "language_info": {
   "codemirror_mode": {
    "name": "ipython",
    "version": 3
   },
   "file_extension": ".py",
   "mimetype": "text/x-python",
   "name": "python",
   "nbconvert_exporter": "python",
   "pygments_lexer": "ipython3",
   "version": "3.6.9"
  }
 },
 "nbformat": 4,
 "nbformat_minor": 4
}
