{
 "cells": [
  {
   "cell_type": "markdown",
   "metadata": {},
   "source": [
    "# Introduction to IPython\n",
    "\n",
    "There are many options for development environments for Python, and I'm often asked which one I use in my own work. My answer sometimes surprises people: my preferred environment is [IPython](http://ipython.org/) plus a text editor (in my case, Emacs or Atom depending on my mood). [IPython](http://ipython.org/) (short for Interactive Python) was started in 2001 by Fernando Perez as an enhanced Python interpreter, and has since grown into a project aiming to provide, in Perez's words, \"Tools for the entire life cycle of research computing.\" If Python is the engine of our data science task, you might think of [IPython](http://ipython.org/) as the interactive control panel.\n",
    "\n",
    "IPython is about using Python effectively for interactive scientific and data-intensive computing. This chapter will start by stepping through some of the IPython features that are useful to the practice of data science, focusing especially on the syntax it offers beyond the standard features of Python. Next, we will go into a bit more depth on some of the more useful \"magic commands\" that can speed-up common tasks in creating and using data science code. Finally, we will touch on some of the features of the notebook that make it useful in understanding data and sharing results.\n"
   ]
  },
  {
   "cell_type": "markdown",
   "metadata": {},
   "source": [
    "### Installing IPython and Jupyter notebook\n",
    "\n",
    "Ipython comes with 2 options: \n",
    "1. Terminal Based option\n",
    "2. Jupyter notebooks\n",
    "\n",
    "Ipython could be installed as follows:\n",
    "```bash\n",
    "pip install ipython\n",
    "pip install jupyter notebook\n",
    "```\n",
    "\n",
    "### Launching the IPython Shell\n",
    "\n",
    "Start by launching the IPython interpreter by typing `ipython` on the command-line; alternatively, if you've installed a distribution like Anaconda or EPD, there may be a launcher specific to your system.\n",
    "\n",
    "### Launching the Jupyter notebook\n",
    "\n",
    "The Jupyter notebook is a browser-based graphical interface to the IPython shell, and builds on it a rich set of dynamic display capabilities. As well as executing Python/IPython statements, the notebook allows the user to include formatted text, static and dynamic visualizations, mathematical equations, JavaScript widgets, and much more. Furthermore, these documents can be saved in a way that lets other people open them and execute the code on their own systems.\n",
    "\n",
    "Though the IPython notebook is viewed and edited through your web browser window, it must connect to a running Python process in order to execute code. This process (known as a \"kernel\") can be started by running the following command in your system shell:\n",
    "```bash\n",
    "$ jupyter notebook\n",
    "```\n",
    "\n",
    "This command will launch a local web server that will be visible to your browser. It immediately spits out a log showing what it is doing; that log will look something like this:\n",
    "```bash\n",
    "$ jupyter notebook\n",
    "[NotebookApp] Serving notebooks from local directory: /Users/jakevdp/PythonDataScienceHandbook\n",
    "[NotebookApp] 0 active kernels \n",
    "[NotebookApp] The IPython Notebook is running at: http://localhost:8888/\n",
    "[NotebookApp] Use Control-C to stop this server and shut down all kernels (twice to skip confirmation).\n",
    "```\n",
    "\n",
    "Upon issuing the command, your default browser should automatically open and navigate to the listed local URL; the exact address will depend on your system. If the browser does not open automatically, you can open a window and manually open this address (http://localhost:8888/ in this example)."
   ]
  },
  {
   "cell_type": "code",
   "execution_count": null,
   "metadata": {},
   "outputs": [],
   "source": []
  }
 ],
 "metadata": {
  "kernelspec": {
   "display_name": "Python 3",
   "language": "python",
   "name": "python3"
  },
  "language_info": {
   "codemirror_mode": {
    "name": "ipython",
    "version": 3
   },
   "file_extension": ".py",
   "mimetype": "text/x-python",
   "name": "python",
   "nbconvert_exporter": "python",
   "pygments_lexer": "ipython3",
   "version": "3.6.9"
  }
 },
 "nbformat": 4,
 "nbformat_minor": 4
}
